{
  "nbformat": 4,
  "nbformat_minor": 0,
  "metadata": {
    "colab": {
      "provenance": [],
      "include_colab_link": true
    },
    "kernelspec": {
      "name": "python3",
      "display_name": "Python 3"
    },
    "language_info": {
      "name": "python"
    }
  },
  "cells": [
    {
      "cell_type": "markdown",
      "metadata": {
        "id": "view-in-github",
        "colab_type": "text"
      },
      "source": [
        "<a href=\"https://colab.research.google.com/github/1stjavawizard/datascience/blob/main/python827.ipynb\" target=\"_parent\"><img src=\"https://colab.research.google.com/assets/colab-badge.svg\" alt=\"Open In Colab\"/></a>"
      ]
    },
    {
      "cell_type": "markdown",
      "source": [
        "# INTRODUCTION TO TUPLE IN PYTHON"
      ],
      "metadata": {
        "id": "nTww5T-BPCZb"
      }
    },
    {
      "cell_type": "code",
      "source": [
        "pp = (20,23,40,90)\n",
        "print(pp)\n",
        "\n",
        "pp2 = 30,50,60\n",
        "print(pp2)"
      ],
      "metadata": {
        "id": "3LHjRVI6UCeq",
        "colab": {
          "base_uri": "https://localhost:8080/"
        },
        "outputId": "ac3b0065-5c7a-4958-cc5a-e2c37af1dc73"
      },
      "execution_count": 7,
      "outputs": [
        {
          "output_type": "stream",
          "name": "stdout",
          "text": [
            "(20, 23, 40, 90)\n",
            "(30, 50, 60)\n"
          ]
        }
      ]
    },
    {
      "cell_type": "markdown",
      "source": [
        "# METHODS WITH TUPLE"
      ],
      "metadata": {
        "id": "9qAUlCAPY0HU"
      }
    },
    {
      "cell_type": "code",
      "source": [
        "print(pp.count(20))"
      ],
      "metadata": {
        "id": "3V-EnVjDUK_L",
        "colab": {
          "base_uri": "https://localhost:8080/"
        },
        "outputId": "e0f26dec-e1db-4171-b15f-dcf88acbd749"
      },
      "execution_count": 9,
      "outputs": [
        {
          "output_type": "stream",
          "name": "stdout",
          "text": [
            "1\n"
          ]
        }
      ]
    },
    {
      "cell_type": "code",
      "source": [
        "print(pp.index(90))"
      ],
      "metadata": {
        "colab": {
          "base_uri": "https://localhost:8080/"
        },
        "id": "yAg919pTZMBN",
        "outputId": "d34f952b-dddd-4a2d-801b-dd1522f2ff55"
      },
      "execution_count": 10,
      "outputs": [
        {
          "output_type": "stream",
          "name": "stdout",
          "text": [
            "3\n"
          ]
        }
      ]
    },
    {
      "cell_type": "code",
      "source": [
        "print(pp[0:2])"
      ],
      "metadata": {
        "colab": {
          "base_uri": "https://localhost:8080/"
        },
        "id": "UkqRGbUtZg99",
        "outputId": "326e4f92-a617-4d00-ea45-8049cad226d6"
      },
      "execution_count": 11,
      "outputs": [
        {
          "output_type": "stream",
          "name": "stdout",
          "text": [
            "(20, 23)\n"
          ]
        }
      ]
    },
    {
      "cell_type": "code",
      "source": [
        "print(pp[2])"
      ],
      "metadata": {
        "colab": {
          "base_uri": "https://localhost:8080/"
        },
        "id": "58FoZnO1ak3m",
        "outputId": "cd482bd3-91ec-483b-95a9-f4045ff28ef8"
      },
      "execution_count": 12,
      "outputs": [
        {
          "output_type": "stream",
          "name": "stdout",
          "text": [
            "40\n"
          ]
        }
      ]
    },
    {
      "cell_type": "markdown",
      "source": [
        "# CONTROL STATEMENT IN PYTHON"
      ],
      "metadata": {
        "id": "pBRagp44a6p1"
      }
    },
    {
      "cell_type": "code",
      "source": [],
      "metadata": {
        "id": "ggoBobHiVTa3"
      },
      "execution_count": null,
      "outputs": []
    },
    {
      "cell_type": "markdown",
      "source": [
        "Syntax for 'for' loop\n",
        "\n",
        "\n",
        "---\n",
        "\n",
        "\n",
        "\n",
        "```\n",
        "# for anyname in group:\n",
        "    task to repeated\n",
        "```\n",
        "\n"
      ],
      "metadata": {
        "id": "dH7jJPE1bFIV"
      }
    },
    {
      "cell_type": "code",
      "source": [
        "group = (60,80,90)\n",
        "\n",
        "for a in group:\n",
        "  print(a)"
      ],
      "metadata": {
        "id": "G4ETYzb0XZjC",
        "colab": {
          "base_uri": "https://localhost:8080/"
        },
        "outputId": "bfa0af34-2f19-4174-bc91-47b2c4c01a19"
      },
      "execution_count": 13,
      "outputs": [
        {
          "output_type": "stream",
          "name": "stdout",
          "text": [
            "60\n",
            "80\n",
            "90\n"
          ]
        }
      ]
    },
    {
      "cell_type": "markdown",
      "source": [
        "# CLASSWORK"
      ],
      "metadata": {
        "id": "lT-FrbBTcUHO"
      }
    },
    {
      "cell_type": "markdown",
      "source": [],
      "metadata": {
        "id": "9n_KF98qbBbl"
      }
    },
    {
      "cell_type": "markdown",
      "source": [
        "\n",
        "\n",
        "*   CREATE TEN TUPLE VARIABLES\n",
        "*   FIND THE SUM OF EACH ITEMS IN EACH VARIABLE\n",
        "\n"
      ],
      "metadata": {
        "id": "fDm-5hbDcX__"
      }
    },
    {
      "cell_type": "code",
      "source": [
        "print( 'result: ' , 4*6)"
      ],
      "metadata": {
        "id": "fRyjDPv0SQh9",
        "colab": {
          "base_uri": "https://localhost:8080/"
        },
        "outputId": "f8174e9e-5909-46c3-8f8e-2e3755b1ba7a"
      },
      "execution_count": null,
      "outputs": [
        {
          "output_type": "stream",
          "name": "stdout",
          "text": [
            "result:  24\n"
          ]
        }
      ]
    },
    {
      "cell_type": "code",
      "source": [],
      "metadata": {
        "id": "B0FL5Iy6U8sO"
      },
      "execution_count": null,
      "outputs": []
    },
    {
      "cell_type": "markdown",
      "source": [
        "# Assignment"
      ],
      "metadata": {
        "id": "9NbKk1xCAr9I"
      }
    },
    {
      "cell_type": "markdown",
      "source": [
        "\n",
        "\n",
        "1.   CREATE 25 FORMULARS USING FUNCTIONS IN PYTHON\n",
        "2.   CREATE A GRADING SYSTEM APP WITH PYTHON\n",
        "2.   CREATE ANY APP WORKING WITH LIST AND TUPLE IN PYTHON\n",
        "\n"
      ],
      "metadata": {
        "id": "wh_zkjUnAxV-"
      }
    },
    {
      "cell_type": "code",
      "source": [],
      "metadata": {
        "id": "NnnFyfDpU4bJ"
      },
      "execution_count": null,
      "outputs": []
    }
  ]
}